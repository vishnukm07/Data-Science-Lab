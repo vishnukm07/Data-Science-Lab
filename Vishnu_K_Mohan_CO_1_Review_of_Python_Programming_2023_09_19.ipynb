{
  "nbformat": 4,
  "nbformat_minor": 0,
  "metadata": {
    "colab": {
      "provenance": [],
      "include_colab_link": true
    },
    "kernelspec": {
      "name": "python3",
      "display_name": "Python 3"
    }
  },
  "cells": [
    {
      "cell_type": "markdown",
      "metadata": {
        "id": "view-in-github",
        "colab_type": "text"
      },
      "source": [
        "<a href=\"https://colab.research.google.com/github/vishnukm07/Data-Science-Lab/blob/main/Vishnu_K_Mohan_CO_1_Review_of_Python_Programming_2023_09_19.ipynb\" target=\"_parent\"><img src=\"https://colab.research.google.com/assets/colab-badge.svg\" alt=\"Open In Colab\"/></a>"
      ]
    },
    {
      "cell_type": "markdown",
      "metadata": {
        "id": "YZnBY81YDCCr"
      },
      "source": [
        "### Instructions\n",
        "\n",
        "Make a duplicate copy of google colab by clicking **File/ Save a copy in Drive option.** A duplicate copy will get created. It will open up in the new tab on your web browser .After that change **share settings**"
      ]
    },
    {
      "cell_type": "markdown",
      "metadata": {
        "id": "bEyBzxYRhrLG"
      },
      "source": [
        "#### CO-1 Review of Python Programming\n",
        "\n",
        "This colab is designed for you to practice and solve the activities that are based on the following concepts:\n",
        "\n",
        " 1. Python Lists\n",
        "\n",
        " 2. NumPy Arrays"
      ]
    },
    {
      "cell_type": "markdown",
      "metadata": {
        "id": "8f6-uc0r9Q4h"
      },
      "source": [
        "### Activities"
      ]
    },
    {
      "cell_type": "markdown",
      "metadata": {
        "id": "q4fH06mIjuK3"
      },
      "source": [
        "#### Activity 1: Create a 3 X 3 Matrix\n",
        "\n",
        "To create a 3x3 matrix with values ranging from 2 to 10.\n",
        "\n",
        "**For Example**:\n",
        "\n",
        "```\n",
        "[[ 2  3  4]\n",
        " [ 5  6  7]\n",
        " [ 8  9 10]]\n",
        "```\n",
        "\n",
        "Follow the steps given below to achieve the desired result:\n",
        "\n",
        "  - **Step 1**: Import `numpy` module.\n",
        "\n",
        "  - **Step 2**: Use `arange()` function to create array of numbers from 2 to 10 and `reshape()` function to reshape your array into another array having 3 rows and 3 columns. Store this reshaped array in a variable `x`.\n",
        "\n",
        "  - **Step 3**: Print variable `x` to get the output.\n",
        "\n"
      ]
    },
    {
      "cell_type": "code",
      "metadata": {
        "id": "4EAoTskqg041",
        "colab": {
          "base_uri": "https://localhost:8080/"
        },
        "outputId": "bc203b7d-92a5-4b1a-b438-db6d0052ced8"
      },
      "source": [
        "# Write your code here\n",
        "import numpy as np\n",
        "vishnu = np.arange(2,11).reshape(3,3)\n",
        "vishnu\n",
        "\n"
      ],
      "execution_count": null,
      "outputs": [
        {
          "output_type": "execute_result",
          "data": {
            "text/plain": [
              "array([[ 2,  3,  4],\n",
              "       [ 5,  6,  7],\n",
              "       [ 8,  9, 10]])"
            ]
          },
          "metadata": {},
          "execution_count": 6
        }
      ]
    },
    {
      "cell_type": "markdown",
      "metadata": {
        "id": "xJlPs9X9oeRw"
      },
      "source": [
        "---"
      ]
    },
    {
      "cell_type": "markdown",
      "metadata": {
        "id": "qA-b1CdeofKc"
      },
      "source": [
        "#### Activity 2: Change Dimension of an Array and Convert the NumPy Array into a List\n",
        "\n",
        "Write a program to change the dimension of an array (say `my_arr =[1, 2, 3, 4, 5, 6, 7, 8, 9]`) into a 3 X 3 (3 rows and 3 columns) array and convert this NumPy array into a list.\n",
        "\n",
        "**For Example:**\n",
        "```\n",
        "Original array is [1 2 3 4 5 6 7 8 9]\n",
        "Dimension is (9,)\n",
        "Change array shape to (3, 3) -> 3 rows and 3 columns\n",
        "[[1 2 3]\n",
        " [4 5 6]\n",
        " [7 8 9]]\n",
        "\n",
        "The data type of the converted variable is\n",
        " list\n",
        "```\n"
      ]
    },
    {
      "cell_type": "code",
      "metadata": {
        "id": "AtvPTG3kpBoS",
        "colab": {
          "base_uri": "https://localhost:8080/"
        },
        "outputId": "093f3278-7c82-4525-8083-ed7a4deddc65"
      },
      "source": [
        "# Write your code here\n",
        "import numpy as np\n",
        "vishnu = np.arange(1,10).reshape(3,3)\n",
        "print(vishnu)\n",
        "\n",
        "lst=vishnu.tolist()\n",
        "type(lst)\n",
        "\n"
      ],
      "execution_count": null,
      "outputs": [
        {
          "output_type": "stream",
          "name": "stdout",
          "text": [
            "[[1 2 3]\n",
            " [4 5 6]\n",
            " [7 8 9]]\n"
          ]
        },
        {
          "output_type": "execute_result",
          "data": {
            "text/plain": [
              "list"
            ]
          },
          "metadata": {},
          "execution_count": 27
        }
      ]
    },
    {
      "cell_type": "markdown",
      "metadata": {
        "id": "KOVBiUSMzut1"
      },
      "source": [
        "---"
      ]
    },
    {
      "cell_type": "markdown",
      "metadata": {
        "id": "b4aeCDi0pkJz"
      },
      "source": [
        "#### Activity 3: Find Square Root\n",
        "\n",
        "Write a program to perform following task:\n",
        "-  Print the square root of numbers in the list.\n",
        "\n",
        "**For Example**:\n",
        "\n",
        "```\n",
        "list1 = [4, 16, 9, 1, 25]\n",
        "[2   4    3   1    5 ]\n",
        "\n",
        "```\n",
        "**Hint:** Use `np.sqrt()` function.\n"
      ]
    },
    {
      "cell_type": "code",
      "metadata": {
        "id": "d5ufKLNYzsIl",
        "colab": {
          "base_uri": "https://localhost:8080/"
        },
        "outputId": "579f6d00-177f-499f-a81a-8bb2b6b61572"
      },
      "source": [
        "# Write your solution here\n",
        "lst = [4, 16, 9, 1, 25]\n",
        "newlst = np.sqrt(lst)\n",
        "newlst\n",
        "\n"
      ],
      "execution_count": null,
      "outputs": [
        {
          "output_type": "execute_result",
          "data": {
            "text/plain": [
              "array([2., 4., 3., 1., 5.])"
            ]
          },
          "metadata": {},
          "execution_count": 18
        }
      ]
    },
    {
      "cell_type": "markdown",
      "metadata": {
        "id": "HSz7jRSlGxIO"
      },
      "source": [
        "---"
      ]
    },
    {
      "cell_type": "markdown",
      "metadata": {
        "id": "yBYfVsIkMapp"
      },
      "source": [
        "#### Activity 4: Create and Update a Null NumPy Array\n",
        "\n",
        "Create a null NumPy array of size 10 and update the sixth value to 11.\n",
        "\n",
        "A null array is basically an array with all elements as `0`.\n",
        "\n",
        "Follow the steps given below to achieve the desired result:\n",
        "\n",
        "- **Step 1:** Import the Numpy module as `np`.\n",
        "\n",
        "- **Step 2**: Create a null array by passing the size i.e. `10` inside the `np.zeros()` function and store it in a variable `null_arr`.\n",
        "\n",
        "- **Step 3**: Print the null array.\n",
        "\n",
        "- **Step 4**: Now update the sixth element of the array by using **list indexing** method. As you need to update the sixth element, the index must be `5`.\n",
        "\n",
        "- **Step 5**: Print the updated array in the output.\n",
        "\n"
      ]
    },
    {
      "cell_type": "code",
      "metadata": {
        "id": "1SkvwQ1bMap6",
        "colab": {
          "base_uri": "https://localhost:8080/"
        },
        "outputId": "4d2cff55-4d55-4d45-f1a8-96320ae4af69"
      },
      "source": [
        "# Write a program to create Null array of size 10 and update the sixth value to 11.\n",
        "import numpy as np\n",
        "null_arr=np.zeros(10)\n",
        "print(null_arr)\n",
        "null_arr[5]=4\n",
        "print(null_arr)\n",
        "\n",
        "\n"
      ],
      "execution_count": null,
      "outputs": [
        {
          "output_type": "stream",
          "name": "stdout",
          "text": [
            "[0. 0. 0. 0. 0. 0. 0. 0. 0. 0.]\n",
            "[0. 0. 0. 0. 0. 4. 0. 0. 0. 0.]\n"
          ]
        }
      ]
    },
    {
      "cell_type": "markdown",
      "metadata": {
        "id": "g4IbWToh9uJb"
      },
      "source": [
        "In the above program we have created a null array by using the `np.zeros()` function of the `numpy` module.\n",
        "\n",
        "We have updated the 6th element to `11` by using list indexing method."
      ]
    },
    {
      "cell_type": "markdown",
      "metadata": {
        "id": "wY10aNk0Map9"
      },
      "source": [
        "---"
      ]
    },
    {
      "cell_type": "markdown",
      "metadata": {
        "id": "2LWcJiG8Map9"
      },
      "source": [
        "#### Activity 5: Populate a Number List\n",
        "\n",
        "Write a program that populates a list by numbers that lies in the range of 0 - 49 and also divisible by 5. Use List Comprehension method.\n",
        "\n",
        "**Output**: `[0, 5, 10, 15, 20, 25, 30, 35, 40, 45]`\n",
        "\n",
        "\n"
      ]
    },
    {
      "cell_type": "code",
      "metadata": {
        "id": "NSr2koqJMap-",
        "colab": {
          "base_uri": "https://localhost:8080/"
        },
        "outputId": "2e09dc69-11c1-466e-ea9c-f23ca486b126"
      },
      "source": [
        "# Write a program to populate a number list divisible by 5 in a range 0 - 49\n",
        "lst=[0, 5, 10, 15, 20, 25, 30, 35, 40, 45]\n",
        "n=[i for i in range(0,49) if i%5==0]\n",
        "print(n)"
      ],
      "execution_count": null,
      "outputs": [
        {
          "output_type": "stream",
          "name": "stdout",
          "text": [
            "[0, 5, 10, 15, 20, 25, 30, 35, 40, 45]\n"
          ]
        }
      ]
    },
    {
      "cell_type": "markdown",
      "metadata": {
        "id": "yXOg0NUQ-Azb"
      },
      "source": [
        "Here, using list comprehension method we are running a `for` loop in range `0 - 49` and checking whether the number is divisible by `5` or not, using an `if` condition.\n",
        "\n",
        "If number satisfies the condition, then that number is appended to `number_list`."
      ]
    },
    {
      "cell_type": "markdown",
      "metadata": {
        "id": "jTiwP3uIMaqA"
      },
      "source": [
        "---"
      ]
    },
    {
      "cell_type": "markdown",
      "metadata": {
        "id": "UH27IpTXFL37"
      },
      "source": [
        "#### Activity 6: Convert List into Array\n",
        "\n",
        "Write a program to convert a list of numeric values into a one-dimensional NumPy array.\n",
        "\n",
        "**For Example:**\n",
        "\n",
        "**Input**: `mylist = [1.23, 23.32, 300, 16.37]`\n",
        "\n",
        "Data type of `mylist` = `list`\n",
        "\n",
        "**Output**: `numpy_array = [1.23, 23.32, 300, 16.37]`\n",
        "\n",
        "Data type of `numpy_array` = `numpy.ndarray`"
      ]
    },
    {
      "cell_type": "code",
      "metadata": {
        "id": "0ocKkCNpFWOY",
        "colab": {
          "base_uri": "https://localhost:8080/"
        },
        "outputId": "85083748-0a7d-472a-97d9-cf152731b137"
      },
      "source": [
        "# Program to convert a list into one dimensional NumPy array\n",
        "\n",
        "lst = [1.23, 23.32, 300, 16.37]\n",
        "print(type(lst))\n",
        "arr = np.array(lst)\n",
        "print(type())\n",
        "\n",
        "\n",
        "\n",
        "\n"
      ],
      "execution_count": null,
      "outputs": [
        {
          "output_type": "stream",
          "name": "stdout",
          "text": [
            "<class 'list'>\n"
          ]
        }
      ]
    }
  ]
}