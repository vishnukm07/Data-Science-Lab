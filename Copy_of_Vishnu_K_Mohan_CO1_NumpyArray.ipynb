{
  "nbformat": 4,
  "nbformat_minor": 0,
  "metadata": {
    "colab": {
      "provenance": [],
      "toc_visible": true,
      "include_colab_link": true
    },
    "kernelspec": {
      "name": "python3",
      "display_name": "Python 3"
    },
    "language_info": {
      "name": "python"
    }
  },
  "cells": [
    {
      "cell_type": "markdown",
      "metadata": {
        "id": "view-in-github",
        "colab_type": "text"
      },
      "source": [
        "<a href=\"https://colab.research.google.com/github/vishnukm07/Data-Science-Lab/blob/main/Copy_of_Vishnu_K_Mohan_CO1_NumpyArray.ipynb\" target=\"_parent\"><img src=\"https://colab.research.google.com/assets/colab-badge.svg\" alt=\"Open In Colab\"/></a>"
      ]
    },
    {
      "cell_type": "code",
      "source": [
        "# program to create an array of all the even integers from 20 to 80\n",
        "import numpy as np\n",
        "x=np.arange(start=20,stop=80,step=2)\n",
        "print(x)"
      ],
      "metadata": {
        "id": "cfWur71N9aGi",
        "colab": {
          "base_uri": "https://localhost:8080/"
        },
        "outputId": "e79e65c0-0688-4ef2-fce1-a9760747f594"
      },
      "execution_count": null,
      "outputs": [
        {
          "output_type": "stream",
          "name": "stdout",
          "text": [
            "[20 22 24 26 28 30 32 34 36 38 40 42 44 46 48 50 52 54 56 58 60 62 64 66\n",
            " 68 70 72 74 76 78]\n"
          ]
        }
      ]
    },
    {
      "cell_type": "code",
      "execution_count": null,
      "metadata": {
        "id": "RmYAaiCX73Y2",
        "colab": {
          "base_uri": "https://localhost:8080/"
        },
        "outputId": "3fe17276-834e-4d76-9233-5f689a5995f4"
      },
      "outputs": [
        {
          "output_type": "stream",
          "name": "stdout",
          "text": [
            "a1:\n",
            "[ 2  5 15 17 24]\n",
            "a2:\n",
            "[ 3  4 13 16 26]\n",
            "a1>a2\n",
            "[False  True  True  True False]\n",
            "a1>=a2\n",
            "[False  True  True  True False]\n",
            "a1<a2\n",
            "[ True False False False  True]\n",
            "a1<=a2\n",
            "[ True False False False  True]\n"
          ]
        }
      ],
      "source": [
        "#Write a program to create a numpy array and perform element-wise comparison (greater, greater_equal, less than, lesser_equal).\n",
        "import numpy as np\n",
        "x=np.array([2,5,15,17,24])\n",
        "y=np.array([3,4,13,16,26])\n",
        "print(\"a1:\")\n",
        "print(x)\n",
        "print(\"a2:\")\n",
        "print(y)\n",
        "print(\"a1>a2\")\n",
        "print(np.greater(x,y))\n",
        "print(\"a1>=a2\")\n",
        "print(np.greater_equal(x,y))\n",
        "print(\"a1<a2\")\n",
        "print(np.less(x,y))\n",
        "print(\"a1<=a2\")\n",
        "print(np.less_equal(x,y))"
      ]
    },
    {
      "cell_type": "code",
      "source": [
        "#program to multiply two given arrays of same size\n",
        "import numpy as np\n",
        "x=np.array([2,5,15,17,24])\n",
        "y=np.array([3,4,13,16,26])\n",
        "print(\"a1:\")\n",
        "print(x)\n",
        "print(\"a2:\")\n",
        "print(y)\n",
        "print(np.multiply(x,y))"
      ],
      "metadata": {
        "id": "js_mIfpL9M6z",
        "colab": {
          "base_uri": "https://localhost:8080/"
        },
        "outputId": "942206ed-1873-40e5-f8fb-9e1416e4c05d"
      },
      "execution_count": null,
      "outputs": [
        {
          "output_type": "stream",
          "name": "stdout",
          "text": [
            "a1:\n",
            "[ 2  5 15 17 24]\n",
            "a2:\n",
            "[ 3  4 13 16 26]\n",
            "[  6  20 195 272 624]\n"
          ]
        }
      ]
    },
    {
      "cell_type": "code",
      "source": [
        "#Program to save a given array to a text file and load it\n",
        "import numpy as np\n",
        "import os\n",
        "x=np.arange(16).reshape(4,4)\n",
        "print(\"array\")\n",
        "print(x)\n",
        "h=\"cl1 cl2 cl3 cl4\"\n",
        "np.savetxt(\"myarray\",x,fmt=\"%d\",header=h)\n",
        "print(\"From myarray Using loadtxt()\")\n",
        "print(np.loadtxt(\"myarray\"))\n"
      ],
      "metadata": {
        "id": "ZcAcw9Cu9pYA",
        "colab": {
          "base_uri": "https://localhost:8080/"
        },
        "outputId": "a506c695-8aba-48fe-ee11-c2b2a912346f"
      },
      "execution_count": null,
      "outputs": [
        {
          "output_type": "stream",
          "name": "stdout",
          "text": [
            "array\n",
            "[[ 0  1  2  3]\n",
            " [ 4  5  6  7]\n",
            " [ 8  9 10 11]\n",
            " [12 13 14 15]]\n",
            "From myarray Using loadtxt()\n",
            "[[ 0.  1.  2.  3.]\n",
            " [ 4.  5.  6.  7.]\n",
            " [ 8.  9. 10. 11.]\n",
            " [12. 13. 14. 15.]]\n"
          ]
        }
      ]
    }
  ]
}